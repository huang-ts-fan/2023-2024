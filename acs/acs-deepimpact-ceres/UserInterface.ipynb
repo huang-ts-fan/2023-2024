{
 "cells": [
  {
   "cell_type": "markdown",
   "metadata": {},
   "source": [
    "# User Interaction of Deep Impact\n",
    "\n",
    "This Jupyter notebook is designed to establish a **user interface** that allows users to modify the parameters of an asteroid by **dragging sliders** or **entering values directly**. \n",
    "\n",
    "The purpose is to observe the hazard of small asteroidshow under varying conditions. It presents the number of population affected, and displays the affected areas and the trajectory of the asteroid on a map.\n",
    "\n",
    "Please try reasonable values.\n",
    "\n",
    "Users can also input **a CSV file** containing various scenarios (default file path is './resources/impact_parameter_list.csv'). This will plot the damage zones of each impact on a map and create a heatmap showing the probability of a given postcode being affected by the impact events."
   ]
  },
  {
   "cell_type": "code",
   "execution_count": 1,
   "metadata": {
    "tags": []
   },
   "outputs": [],
   "source": [
    "import ipywidgets as widgets\n",
    "from ipywidgets import interact\n",
    "from IPython.display import display, HTML\n",
    "import os"
   ]
  },
  {
   "cell_type": "code",
   "execution_count": 2,
   "metadata": {},
   "outputs": [],
   "source": [
    "from deepimpact import solver, damage, mapping, locator"
   ]
  },
  {
   "cell_type": "code",
   "execution_count": 3,
   "metadata": {
    "tags": []
   },
   "outputs": [],
   "source": [
    "planet = solver.Planet()\n",
    "loc = locator.GeospatialLocator()\n",
    "def update_parameters(radius, velocity, density, strength, angle, latitude, longitude, bearing):\n",
    "    result = planet.solve_atmospheric_entry(radius, velocity, density, strength, angle)\n",
    "    energy = planet.calculate_energy(result)\n",
    "    outcome = planet.analyse_outcome(energy)\n",
    "    try:\n",
    "        zone = damage.damage_zones(outcome, latitude, longitude, bearing, pressures = [30000])\n",
    "    except:\n",
    "        display(HTML(\"<b style='color: red;'>PLEASE USE REASONABLE VALUES!!!!!</b>\"))\n",
    "\n",
    "    # to display the postcodes affected\n",
    "    # postcodes_affected = loc.get_postcodes_by_radius((zone[0],zone[1]), zone[2])\n",
    "    # display(postcodes_affected)\n",
    "    \n",
    "    pop_affected = loc.get_population_by_radius((zone[0],zone[1]), zone[2])\n",
    "    # if you want to see the tail just set it as True\n",
    "    map_affected = mapping.plot_meteor(zone[0], zone[1], zone[2],latitude, longitude, tail = False)\n",
    "    display(HTML(f\"<b style='color: red;'>Population affected: {pop_affected[0]}</b>\"))\n",
    "    display(map_affected)"
   ]
  },
  {
   "cell_type": "code",
   "execution_count": 4,
   "metadata": {
    "tags": []
   },
   "outputs": [
    {
     "data": {
      "application/vnd.jupyter.widget-view+json": {
       "model_id": "75728b2bbdbd4492bfdb0a9f8626cf33",
       "version_major": 2,
       "version_minor": 0
      },
      "text/plain": [
       "interactive(children=(FloatSlider(value=34.0, description='radius', min=1.0), FloatSlider(value=18723.0, descr…"
      ]
     },
     "metadata": {},
     "output_type": "display_data"
    },
    {
     "data": {
      "text/plain": [
       "<function __main__.update_parameters(radius, velocity, density, strength, angle, latitude, longitude, bearing)>"
      ]
     },
     "execution_count": 4,
     "metadata": {},
     "output_type": "execute_result"
    }
   ],
   "source": [
    "interact(update_parameters,\n",
    "         radius = widgets.FloatSlider(min=1, max=1e2, value=34),\n",
    "         velocity=widgets.FloatSlider(min=1, max=1e5, value=18723),\n",
    "         density=widgets.FloatSlider(min=1, max=1e5, value=3123),\n",
    "         strength=widgets.FloatSlider(min=1, max=1e8, value=12836319),\n",
    "         angle=widgets.FloatSlider(min=25, max=90, value=44),\n",
    "         latitude = widgets.FloatSlider(min=49, max=61,value=53),\n",
    "         longitude = widgets.FloatSlider(min=-10, max=3,value=-2.48),\n",
    "         bearing = widgets.FloatSlider(min=0, max=200,value=115))"
   ]
  },
  {
   "cell_type": "code",
   "execution_count": 5,
   "metadata": {},
   "outputs": [
    {
     "data": {
      "application/vnd.jupyter.widget-view+json": {
       "model_id": "36b15d4656d4428cabec84a4e0f4886d",
       "version_major": 2,
       "version_minor": 0
      },
      "text/plain": [
       "interactive(children=(Text(value='./resources/impact_parameter_list.csv', description='impact_file'), Output()…"
      ]
     },
     "metadata": {},
     "output_type": "display_data"
    },
    {
     "data": {
      "text/plain": [
       "<function __main__.multi_scenario(impact_file)>"
      ]
     },
     "execution_count": 5,
     "metadata": {},
     "output_type": "execute_result"
    }
   ],
   "source": [
    "def multi_scenario(impact_file):\n",
    "    meteors = mapping.plot_meteors(tail=True,\n",
    "                                   filename=impact_file)\n",
    "    probability, population = damage.impact_risk(planet = solver.Planet(),\n",
    "                                                  impact_file=impact_file)\n",
    "    heatmap = mapping.plot_heatmap(probability, population,\n",
    "                           latlongfile='./resources/full_postcodes.csv')\n",
    "    display(meteors)\n",
    "    display(heatmap)\n",
    "\n",
    "\n",
    "interact(multi_scenario,\n",
    "         impact_file = widgets.Text(value='./resources/impact_parameter_list.csv'),\n",
    "                                    placeholder='Please enter the file path', \n",
    "                                    description='File Path:',disabled=False)"
   ]
  },
  {
   "cell_type": "code",
   "execution_count": null,
   "metadata": {},
   "outputs": [],
   "source": []
  }
 ],
 "metadata": {
  "celltoolbar": "Slideshow",
  "hide_input": false,
  "kernelspec": {
   "display_name": "Python 3 (ipykernel)",
   "language": "python",
   "name": "python3"
  },
  "language_info": {
   "codemirror_mode": {
    "name": "ipython",
    "version": 3
   },
   "file_extension": ".py",
   "mimetype": "text/x-python",
   "name": "python",
   "nbconvert_exporter": "python",
   "pygments_lexer": "ipython3",
   "version": "3.11.5"
  },
  "toc": {
   "base_numbering": 1,
   "nav_menu": {},
   "number_sections": true,
   "sideBar": true,
   "skip_h1_title": false,
   "title_cell": "Table of Contents",
   "title_sidebar": "Contents",
   "toc_cell": false,
   "toc_position": {},
   "toc_section_display": true,
   "toc_window_display": false
  }
 },
 "nbformat": 4,
 "nbformat_minor": 4
}
