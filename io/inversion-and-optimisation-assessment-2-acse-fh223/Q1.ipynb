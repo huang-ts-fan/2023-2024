{
 "cells": [
  {
   "cell_type": "code",
   "execution_count": 1,
   "id": "a08c983a-f52a-44c6-ac49-3a4d59070d0d",
   "metadata": {},
   "outputs": [],
   "source": [
    "import numpy as np\n",
    "import scipy.linalg as sl\n",
    "import matplotlib.pyplot as plt"
   ]
  },
  {
   "cell_type": "markdown",
   "id": "c6697ff2-9188-4622-8079-96988de022e3",
   "metadata": {},
   "source": [
    "# Question 1 - [25 marks] <a class=\"tocSkip\"></a>\n",
    "\n",
    "Consider the matrix\n",
    "\n",
    "$$\n",
    "\\begin{pmatrix}\n",
    " 1 & -1 &  0 & -1 \\\\\n",
    "-1 &  1 &  1 & 1 \\\\\n",
    " 1 & -1 &  5 & 0 \\\\\n",
    " 3 & -3 &  1 & -1 \\\\\n",
    "\\end{pmatrix}.\n",
    "$$\n",
    "\n",
    "**1.1** Derive the reduced row echelon form (RREF) of this matrix, and determine its rank and nullspace."
   ]
  },
  {
   "cell_type": "code",
   "execution_count": 2,
   "id": "4b3600ae",
   "metadata": {},
   "outputs": [
    {
     "data": {
      "text/plain": [
       "array([[ 1, -1,  0, -1],\n",
       "       [-1,  1,  1,  1],\n",
       "       [ 1, -1,  5,  0],\n",
       "       [ 3, -3,  1, -1]])"
      ]
     },
     "execution_count": 2,
     "metadata": {},
     "output_type": "execute_result"
    }
   ],
   "source": [
    "A = np.array([[ 1, -1, 0, -1],\n",
    "  [-1, 1, 1, 1],\n",
    "  [1, -1, 5, 0],\n",
    "  [3, -3, 1, -1]])\n",
    "A0 = A.copy()\n",
    "A0"
   ]
  },
  {
   "cell_type": "code",
   "execution_count": 3,
   "id": "24c012da",
   "metadata": {},
   "outputs": [
    {
     "data": {
      "text/plain": [
       "array([[ 1, -1,  0, -1],\n",
       "       [ 0,  0,  1,  0],\n",
       "       [ 0,  0,  5,  1],\n",
       "       [ 0,  0,  1,  2]])"
      ]
     },
     "execution_count": 3,
     "metadata": {},
     "output_type": "execute_result"
    }
   ],
   "source": [
    "# create zero entries in first column\n",
    "# by adding/subtracting scalar multiples of row 0\n",
    "A0 = np.array([A0[0], A0[1] + A0[0], A0[2] - A0[0], A0[3] - 3*A0[0]])\n",
    "A0"
   ]
  },
  {
   "cell_type": "code",
   "execution_count": 4,
   "id": "4264db3c",
   "metadata": {},
   "outputs": [
    {
     "data": {
      "text/plain": [
       "array([[ 1, -1,  0, -1],\n",
       "       [ 0,  0,  1,  0],\n",
       "       [ 0,  0,  0,  1],\n",
       "       [ 0,  0,  0,  2]])"
      ]
     },
     "execution_count": 4,
     "metadata": {},
     "output_type": "execute_result"
    }
   ],
   "source": [
    "# create zero entries in third column\n",
    "# by adding/subtracting scalar multiples of row 1\n",
    "A0 = np.array([A0[0], A0[1], A0[2] - 5*A0[1], A0[3] - A0[1]])\n",
    "A0"
   ]
  },
  {
   "cell_type": "code",
   "execution_count": 5,
   "id": "7489aff7",
   "metadata": {},
   "outputs": [
    {
     "data": {
      "text/plain": [
       "array([[ 1, -1,  0,  0],\n",
       "       [ 0,  0,  1,  0],\n",
       "       [ 0,  0,  0,  1],\n",
       "       [ 0,  0,  0,  0]])"
      ]
     },
     "execution_count": 5,
     "metadata": {},
     "output_type": "execute_result"
    }
   ],
   "source": [
    "# create zero entries in fourth column\n",
    "# by adding/subtracting scalar multiples of row 2\n",
    "A0 = np.array([A0[0]+A0[2], A0[1], A0[2], A0[3] - 2*A0[2]])\n",
    "A0"
   ]
  },
  {
   "cell_type": "code",
   "execution_count": 6,
   "id": "b34bfc41",
   "metadata": {},
   "outputs": [
    {
     "data": {
      "text/plain": [
       "3"
      ]
     },
     "execution_count": 6,
     "metadata": {},
     "output_type": "execute_result"
    }
   ],
   "source": [
    "rank = np.linalg.matrix_rank(A0)\n",
    "rank"
   ]
  },
  {
   "cell_type": "code",
   "execution_count": 7,
   "id": "3f2e6743",
   "metadata": {},
   "outputs": [
    {
     "data": {
      "text/plain": [
       "array([[0.70710678],\n",
       "       [0.70710678],\n",
       "       [0.        ],\n",
       "       [0.        ]])"
      ]
     },
     "execution_count": 7,
     "metadata": {},
     "output_type": "execute_result"
    }
   ],
   "source": [
    "nullspace = sl.null_space(A0)\n",
    "nullspace"
   ]
  },
  {
   "cell_type": "markdown",
   "id": "5cebca54",
   "metadata": {},
   "source": [
    "This shows that the zero space is tensorized by the vector\n",
    "$\\begin{pmatrix} 1 \\\\ 1 \\\\ 0 \\\\ 0 \\end{pmatrix}$"
   ]
  },
  {
   "cell_type": "markdown",
   "id": "7b071e3a-95f3-427e-a06a-b93c9611dec3",
   "metadata": {},
   "source": [
    "**1.2** Using the solution $x=\\left(0, 2, 1, 3\\right)$ to the linear system\n",
    "\n",
    "$$\n",
    "\\begin{pmatrix}\n",
    " 1 & -1 &  0 & -1 \\\\\n",
    "-1 &  1 &  1 & 1 \\\\\n",
    " 1 & -1 &  5 & 0 \\\\\n",
    " 3 & -3 &  1 & -1 \\\\\n",
    "\\end{pmatrix}\n",
    "\\begin{pmatrix}\n",
    "  x_1 \\\\ x_2 \\\\ x_3 \\\\ x_4\n",
    "\\end{pmatrix}\n",
    "=\n",
    "\\begin{pmatrix}\n",
    "-5 \\\\  6 \\\\  3 \\\\ -8\n",
    "\\end{pmatrix},\n",
    "$$\n",
    "\n",
    "what is the minimum norm solution to this system?"
   ]
  },
  {
   "cell_type": "markdown",
   "id": "0b3b73fc",
   "metadata": {},
   "source": [
    "We first need to verify that the given solution $x=(0, 2, 1, 3)$ does indeed satisfy that system. If so, the minimum norm solution will be the solution with the smallest number of norms (usually Euclidean norms) in the solution space of that system."
   ]
  },
  {
   "cell_type": "code",
   "execution_count": 8,
   "id": "1e131182-c881-41bd-9b24-bce6960ab801",
   "metadata": {},
   "outputs": [
    {
     "data": {
      "text/plain": [
       "True"
      ]
     },
     "execution_count": 8,
     "metadata": {},
     "output_type": "execute_result"
    }
   ],
   "source": [
    "b = np.array([-5, 6, 3, -8])\n",
    "x_given = np.array([0, 2, 1, 3])\n",
    "\n",
    "b_check = A @ (x_given)\n",
    "solution_matches = np.allclose(b_check, b)\n",
    "solution_matches"
   ]
  },
  {
   "cell_type": "markdown",
   "id": "96afa6bd",
   "metadata": {},
   "source": [
    "The given solution $x=(0, 2, 1, 3)$ does satisfy the linear system. "
   ]
  },
  {
   "cell_type": "code",
   "execution_count": 9,
   "id": "84b0ba0a",
   "metadata": {},
   "outputs": [
    {
     "data": {
      "text/plain": [
       "array([-1.,  1.,  1.,  3.])"
      ]
     },
     "execution_count": 9,
     "metadata": {},
     "output_type": "execute_result"
    }
   ],
   "source": [
    "A_pinv = np.linalg.pinv(A)\n",
    "x_min_norm = A_pinv @ (b)\n",
    "x_min_norm"
   ]
  },
  {
   "cell_type": "markdown",
   "id": "fc1a3941",
   "metadata": {},
   "source": [
    "This means that while $x=(0, 2, 1, 3)$ is a valid solution to the system, the smallest norm solution is **$x=(-1, 1, 1, 3)$**, which has the smallest Euclidean norm of all possible solutions."
   ]
  },
  {
   "cell_type": "markdown",
   "id": "bf573ae6-e76a-4754-9595-f46542681451",
   "metadata": {},
   "source": [
    "**1.3** Consider now the matrix\n",
    "\n",
    "$$\n",
    "\\begin{pmatrix}\n",
    "  1 & 2 & 3 \\\\\n",
    "  4 & 5 & 6 \\\\\n",
    "  7 & 8 & 9 \\\\\n",
    "  1 & 1 & 1\n",
    "\\end{pmatrix}.\n",
    "$$\n",
    "\n",
    "Use [`scipy.linalg.svd`](https://docs.scipy.org/doc/scipy/reference/generated/scipy.linalg.svd.html) to obtain the Singular Value Decomposition of this matrix. Determine the rank of the matrix from the SVD where you may assume any value in the SVD output whose absolute value is smaller than `1e-15` is zero (within machine precision). Again using the output of the SVD, construct the compact form of the SVD and check its product is correct. Use this result to construct a generalised inverse for the matrix, and find the minimum-norm solution of\n",
    "\n",
    "$$\n",
    "\\begin{pmatrix}\n",
    "  1 & 2 & 3 \\\\\n",
    "  4 & 5 & 6 \\\\\n",
    "  7 & 8 & 9 \\\\\n",
    "  1 & 1 & 1\n",
    "\\end{pmatrix}\n",
    "\\begin{pmatrix}\n",
    "x_1 \\\\ x_2 \\\\ x_3\n",
    "\\end{pmatrix}\n",
    "=\n",
    "\\begin{pmatrix}\n",
    "32 \\\\ 77 \\\\ 122 \\\\ 15\n",
    "\\end{pmatrix}\n",
    "$$\n"
   ]
  },
  {
   "cell_type": "markdown",
   "id": "943e990a",
   "metadata": {},
   "source": [
    "Define the matrix and the vector on the right hand side."
   ]
  },
  {
   "cell_type": "code",
   "execution_count": 10,
   "id": "9d952d2c-7bd4-4303-bbbb-16cc443b990c",
   "metadata": {},
   "outputs": [],
   "source": [
    "A = np.array([\n",
    "    [1, 2, 3],\n",
    "    [4, 5, 6],\n",
    "    [7, 8, 9],\n",
    "    [1, 1, 1]\n",
    "])\n",
    "\n",
    "b = np.array([32, 77, 122, 15])"
   ]
  },
  {
   "cell_type": "markdown",
   "id": "019bbcd1",
   "metadata": {},
   "source": [
    "Compute Singular Value Decomposition (SVD)."
   ]
  },
  {
   "cell_type": "code",
   "execution_count": 11,
   "id": "5545fec2",
   "metadata": {},
   "outputs": [
    {
     "name": "stdout",
     "output_type": "stream",
     "text": [
      "[[-0.2136533   0.87256508 -0.36856761 -0.23904053]\n",
      " [-0.51788213  0.2552086   0.47255165  0.66585404]\n",
      " [-0.82211097 -0.36214788 -0.10398404 -0.42681351]\n",
      " [-0.10140961 -0.20578549 -0.7937507   0.56331896]] [1.69353938e+01 1.09198772e+00 5.97058858e-17] [[-0.48073097 -0.57247058 -0.66421019]\n",
      " [-0.77603548 -0.07490508  0.62622533]\n",
      " [ 0.40824829 -0.81649658  0.40824829]]\n"
     ]
    }
   ],
   "source": [
    "# Compute SVD\n",
    "U, s, Vh = sl.svd(A)\n",
    "print(U, s, Vh)"
   ]
  },
  {
   "cell_type": "markdown",
   "id": "b8b4c94c",
   "metadata": {},
   "source": [
    "Use the `scipy.linalg.svd` function to compute the singular value decomposition of the matrix `A`, yielding the matrix `U`, the singular value array `s`, and the matrix `Vh` (the conjugate transpose of `V`)."
   ]
  },
  {
   "cell_type": "code",
   "execution_count": 12,
   "id": "6b5f43cc",
   "metadata": {},
   "outputs": [
    {
     "data": {
      "text/plain": [
       "2"
      ]
     },
     "execution_count": 12,
     "metadata": {},
     "output_type": "execute_result"
    }
   ],
   "source": [
    "# Determine the rank of the matrix\n",
    "rank_from_svd = np.sum(s > 1e-15)\n",
    "rank_from_svd"
   ]
  },
  {
   "cell_type": "markdown",
   "id": "8da37b22",
   "metadata": {},
   "source": [
    "The rank of the matrix is determined by the singular values; any singular value greater than `1e-15` is considered nonzero, and the rank of the matrix is computed."
   ]
  },
  {
   "cell_type": "markdown",
   "id": "8efc5da5",
   "metadata": {},
   "source": [
    "Constructing an SVD in compact form and checking its product."
   ]
  },
  {
   "cell_type": "code",
   "execution_count": 13,
   "id": "210c3289",
   "metadata": {},
   "outputs": [
    {
     "name": "stdout",
     "output_type": "stream",
     "text": [
      "[[1. 2. 3.]\n",
      " [4. 5. 6.]\n",
      " [7. 8. 9.]\n",
      " [1. 1. 1.]]\n"
     ]
    }
   ],
   "source": [
    "# Adjusting the construction of Sigma for a non-square matrix\n",
    "rows, cols = A.shape\n",
    "Sigma_expanded = np.zeros((rows, cols))\n",
    "np.fill_diagonal(Sigma_expanded, s)\n",
    "\n",
    "# Recompute the reconstructed matrix using the expanded Sigma\n",
    "A_reconstructed = U @ Sigma_expanded @ Vh\n",
    "\n",
    "print(A_reconstructed)"
   ]
  },
  {
   "cell_type": "markdown",
   "id": "85823cac",
   "metadata": {},
   "source": [
    "Here we construct the compact form of the SVD and then reconstruct the original matrix by the product of `U`, `s` and `Vh` to verify that our SVD is correct. Observing our reconstructed matrix we can see that it is identical to the original matrix, which shows that our implementation is correct."
   ]
  },
  {
   "cell_type": "markdown",
   "id": "259cd703",
   "metadata": {},
   "source": [
    "**Note:** \n",
    "\n",
    "When constructing the SVD in compact form and verifying its product, we should note that the original matrix $A$ has the shape $4 \\times 3$, not a square matrix. This means that we cannot completely reconstruct the original matrix by directly using simple products of the compact forms of `U`, `s` and `Vh`. For a $4 \\times 3$ matrix, `s` should be constructed as a rectangular matrix. The first $rank\\_from\\_svd$ diagonal elements are singular values and the rest are zero."
   ]
  },
  {
   "cell_type": "code",
   "execution_count": 14,
   "id": "02572e2b",
   "metadata": {},
   "outputs": [
    {
     "name": "stdout",
     "output_type": "stream",
     "text": [
      "Product is correct!\n"
     ]
    }
   ],
   "source": [
    "# Check its product is correct\n",
    "correct = np.allclose(A_reconstructed, A)\n",
    "if correct: print (\"Product is correct!\")"
   ]
  },
  {
   "cell_type": "code",
   "execution_count": 15,
   "id": "5a19ed89",
   "metadata": {},
   "outputs": [],
   "source": [
    "# Constructing a generalized inverse\n",
    "Sigma_pinv_expanded = np.zeros((cols, rows))\n",
    "np.fill_diagonal(Sigma_pinv_expanded[:rank_from_svd, :], 1/s[:rank_from_svd])\n",
    "A_pinv_svd = Vh.T @ Sigma_pinv_expanded @ U.T"
   ]
  },
  {
   "cell_type": "code",
   "execution_count": 16,
   "id": "8dfb63c7",
   "metadata": {},
   "outputs": [
    {
     "name": "stdout",
     "output_type": "stream",
     "text": [
      "[4. 5. 6.]\n"
     ]
    }
   ],
   "source": [
    "# Minimum-norm solution\n",
    "x_min_norm_svd = A_pinv_svd @ (b)\n",
    "print(x_min_norm_svd)"
   ]
  },
  {
   "cell_type": "markdown",
   "id": "b40227fd",
   "metadata": {},
   "source": [
    "We constructed the generalized inverse and used this generalized inverse to find the minimum norm solution $(4, 5, 6)$ of the linear system."
   ]
  },
  {
   "cell_type": "code",
   "execution_count": null,
   "id": "006fff6d",
   "metadata": {},
   "outputs": [],
   "source": []
  }
 ],
 "metadata": {
  "kernelspec": {
   "display_name": "Python 3 (ipykernel)",
   "language": "python",
   "name": "python3"
  },
  "language_info": {
   "codemirror_mode": {
    "name": "ipython",
    "version": 3
   },
   "file_extension": ".py",
   "mimetype": "text/x-python",
   "name": "python",
   "nbconvert_exporter": "python",
   "pygments_lexer": "ipython3",
   "version": "3.11.5"
  },
  "toc": {
   "base_numbering": 1,
   "nav_menu": {},
   "number_sections": true,
   "sideBar": true,
   "skip_h1_title": false,
   "title_cell": "Table of Contents",
   "title_sidebar": "Contents",
   "toc_cell": false,
   "toc_position": {},
   "toc_section_display": true,
   "toc_window_display": false
  }
 },
 "nbformat": 4,
 "nbformat_minor": 5
}
