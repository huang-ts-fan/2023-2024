{
 "cells": [
  {
   "cell_type": "markdown",
   "id": "843ac3e9",
   "metadata": {},
   "source": [
    "# Inversion and Optimisation Assessment 1 specification"
   ]
  },
  {
   "cell_type": "markdown",
   "id": "f090089e",
   "metadata": {},
   "source": [
    "## Part 1 [40 marks]\n",
    "\n",
    "The solution for this section of the coursework should be completed in the notebook entitled `part1.ipynb`.\n",
    "\n",
    "`part1.ipynb` contains code that reads and loads data from the file `vp_marmousi_bi` (located in the `data` folder of this repository) into a `NumPy` array. The [Marmousi model](https://en.wikipedia.org/wiki/Marmousi_model) is a complex geological model commonly used to test FWI frameworks. (See `part1.ipynb` for further details regarding that data).\n",
    "\n",
    "In `part1.ipynb` and below the code provided, complete the following tasks:\n",
    "1. [5 marks] Use the 'True' and 'smoothed' velocity profiles provided to create suitable Devito `Model` objects.\n",
    "2. [10 marks] Devise and plot an aquisition geometry for the domain. That is:\n",
    "    - Choose a suitable start time, end time and Ricker source peak frequency.\n",
    "    - Create a set of 3 Ricker sources.\n",
    "    - Create a set of receivers.\n",
    "3. [10 marks] For both the 'True' and 'Smooth' models and for each source location execute forward simulations and plot the shot records and their differences. (For each source location three plots should be generated, and hence nine in total for this section).\n",
    "4. [15 marks] Discuss and justify the choices made in parts 2 and 3, that is:\n",
    "    - Explain your choice regarding the number of boundary layers when creating the models.\n",
    "    - Explain your choices regarding the end time of the simulation and the Ricker source peak frequency.\n",
    "    - Explain the positioning of the sources and receivers.\n",
    "    - Discuss the shot records generated and how/if they justify the choice of Aquisition geometry.\n",
    "In justifying your choices, you may wish to make use of the relationships $c=f\\lambda$ (wave-speed = frequency x wavelength), $d=vt$ (distance = velocity x time).\n",
    "\n",
    "Notes:\n",
    "- Your forward simulations should solve the isotropic acoustic wave-equation. You may mimic the frameworks introduced in either lecture 7 or 8 to do so.\n",
    "- Whilst the layout of the solution is left to you, it is advised that you utilize at least once cell of sub-section.\n",
    "- It is advised that you do not position the sources too closely together."
   ]
  },
  {
   "cell_type": "markdown",
   "id": "d249a86a",
   "metadata": {},
   "source": [
    "## Part 2 [60 marks]\n",
    "\n",
    "The notebook `part2.ipynb` contains a functioning FWI framework. The framework is very similar to that introduced in Lecture 8 - the key differences are:\n",
    "1. The initial/smoothed model is different.\n",
    "2. Recorded data is read from files entitled `shotXX.npy` in the `data` folder (not generated on the fly).\n",
    "\n",
    "Whilst the framework provided if 'functional' the current result is not great - the goal here is to improve it. To do this, implement the following:\n",
    "1. [15 marks] In the FWI loop, replace how the step length `alpha` is set by a *simple line search* algorithm (i.e. you only need to consider the Armijo condition). You have seen the implementation of a simple line search for functions of scalars in Lecture 5. You should adapt this algorithm to work within the FWI framework. In a couple of short paragraphs, using mathematical definitions where appropriate, explain the implementation of your simple line search algorithm.\n",
    "2. [45 marks] Modify **4** other aspects of the FWI algorithm. List each modification you implement, discuss the reason behind each modification and its effect on the final image/result. Modifications you could think about implementing are:\n",
    "    - Changing the number of FWI iterations\n",
    "    - Modifying the absorbing boundary layer width\n",
    "    - Modifying the discretization order of the PDE\n",
    "    - Changing the grid resolution\n",
    "    - Reducing the time-step and/or changing the end time of the simulation\n",
    "    - Further improving the line-search algorithm implemented in 2.1\n",
    "    - (Any other well reasoned modification)\n",
    "\n",
    "In 2.2, roughly 10 marks will be allocated to each modification and its discussion, but this may vary depending on the complexity of the modification in question.\n",
    "\n",
    "Notes:\n",
    "- Since you're being provided with recorded data, the source and receiver locations **should not be changed.**\n",
    "- When implementing the simple line search, avoid redundant computation. Do not re-compute anything you don't need to, add optional arguments and if statements to existing functions where appropriate.\n",
    "- Be careful when comparing the 'raw' value of the objective function. Remember, more receivers, more sources, recording data at more points in time etc. will result in a higher value of the objective function. \n",
    "\n",
    "**Extension for fun** [0 marks]\n",
    "\n",
    "Including or excluding this part will have no impact on your grade!\n",
    "\n",
    "Based on your explorations above, comment on how you think the recorded data may have been generated."
   ]
  }
 ],
 "metadata": {
  "kernelspec": {
   "display_name": "Python 3 (ipykernel)",
   "language": "python",
   "name": "python3"
  },
  "language_info": {
   "codemirror_mode": {
    "name": "ipython",
    "version": 3
   },
   "file_extension": ".py",
   "mimetype": "text/x-python",
   "name": "python",
   "nbconvert_exporter": "python",
   "pygments_lexer": "ipython3",
   "version": "3.10.9"
  }
 },
 "nbformat": 4,
 "nbformat_minor": 5
}
