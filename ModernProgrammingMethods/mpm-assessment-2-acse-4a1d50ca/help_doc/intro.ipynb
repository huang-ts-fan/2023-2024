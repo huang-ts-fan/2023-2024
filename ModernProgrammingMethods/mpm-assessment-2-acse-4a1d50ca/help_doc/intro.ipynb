{
 "cells": [
  {
   "cell_type": "markdown",
   "metadata": {},
   "source": [
    "# Introduction to ACSE-Functions"
   ]
  },
  {
   "cell_type": "markdown",
   "metadata": {},
   "source": [
    "## <font color = red > Note: Make sure you have imported the base function before using the complex function.  \n",
    "For example: \n",
    "\n",
    "We use some constant terms from the math library (e.g., π and e) and also some complex (real and imaginary) arithmetic functions from the cmath library.\n",
    "\n",
    "To ensure that the functions are used correctly, remember to install them.\n",
    "\n",
    "Most of the functions we have implemented are based on Taylor Expansion, so the factorial function needs to be imported before we can use these functions.  \n",
    "  \n",
    "Bessel's function is based on our custom gamma function, so make sure the current file has access to our gamma function before using it.</font>"
   ]
  },
  {
   "cell_type": "markdown",
   "metadata": {},
   "source": [
    "### 1. factorial"
   ]
  },
  {
   "cell_type": "code",
   "execution_count": 1,
   "metadata": {},
   "outputs": [],
   "source": [
    "def factorial(n):\n",
    "    \"\"\"Compute factorial of n.\n",
    "    \n",
    "    >>> factorial(5)\n",
    "    120\n",
    "    >>> factorial(0)\n",
    "    1\n",
    "\n",
    "    \"\"\"\n",
    "    if n == 0:\n",
    "        return 1\n",
    "    return n * factorial(n-1)"
   ]
  },
  {
   "cell_type": "markdown",
   "metadata": {},
   "source": [
    "### 2. exp"
   ]
  },
  {
   "cell_type": "code",
   "execution_count": 2,
   "metadata": {},
   "outputs": [],
   "source": [
    "def exp(x, N=100):\n",
    "    \"\"\"Compute e^x using Taylor series expansion.\n",
    "    \n",
    "    >>> exp(1)\n",
    "    2.7182818284590455\n",
    "    >>> exp(0)\n",
    "    1.0\n",
    "\n",
    "    \"\"\"\n",
    "    x = x if hasattr(x, \"__iter__\") else [x]\n",
    "    result = [sum([val**n / factorial(n) for n in range(N)]) for val in x]\n",
    "    return result if len(result) > 1 else result[0]"
   ]
  },
  {
   "cell_type": "markdown",
   "metadata": {},
   "source": [
    "### 3. sin"
   ]
  },
  {
   "cell_type": "code",
   "execution_count": 3,
   "metadata": {},
   "outputs": [],
   "source": [
    "def sin(x, N=10):\n",
    "    \"\"\"Compute sin(x) using Taylor series expansion.\n",
    "       \n",
    "    >>> sin(0)\n",
    "    0.0\n",
    "    >>> sin(math.pi / 2)\n",
    "    1.0\n",
    "\n",
    "    \"\"\"\n",
    "    # Ensure x is a list\n",
    "    x = x if hasattr(x, \"__iter__\") else [x]\n",
    "\n",
    "    # Reduce each value in x to the range [-pi, pi]\n",
    "    x_reduced = [(val % (2 * math.pi)) - (2 * math.pi) if val % (2 * math.pi) > math.pi else val % (2 * math.pi) for val in x]\n",
    "    \n",
    "    # Calculate the Taylor series expansion for each reduced value\n",
    "    result = [sum([(-1)**n * val**(2*n+1) / factorial(2*n+1) for n in range(N)]) for val in x_reduced]\n",
    "    \n",
    "    return result if len(result) > 1 else result[0]"
   ]
  },
  {
   "cell_type": "markdown",
   "metadata": {},
   "source": [
    "### 4. cos"
   ]
  },
  {
   "cell_type": "code",
   "execution_count": 4,
   "metadata": {},
   "outputs": [],
   "source": [
    "def cos(x, N=10):\n",
    "    \"\"\"Compute cos(x) using Taylor series expansion.\n",
    "    \n",
    "    >>> cos(0)\n",
    "    1.0\n",
    "\n",
    "    \"\"\"\n",
    "    # Ensure x is a list\n",
    "    x = x if hasattr(x, \"__iter__\") else [x]\n",
    "    \n",
    "    # Reduce each value in x to the range [-pi, pi]\n",
    "    x_reduced = [(val % (2 * math.pi)) - (2 * math.pi) if val % (2 * math.pi) > math.pi else val % (2 * math.pi) for val in x]\n",
    "    \n",
    "    # Calculate the Taylor series expansion for each reduced value\n",
    "    result = [sum([(-1)**n * val**(2*n) / factorial(2*n) for n in range(N)]) for val in x_reduced]\n",
    "    \n",
    "    return result if len(result) > 1 else result[0]"
   ]
  },
  {
   "cell_type": "markdown",
   "metadata": {},
   "source": [
    "### 5. tan"
   ]
  },
  {
   "cell_type": "code",
   "execution_count": 5,
   "metadata": {},
   "outputs": [],
   "source": [
    "def tan(x, N=10):\n",
    "    \"\"\"Compute tan(x) using Taylor series for sin and cos without calling them directly.\n",
    "    \n",
    "    \n",
    "    >>> tan(0)\n",
    "    0.0\n",
    "    >>> tan(math.pi / 4)\n",
    "    1.0\n",
    "\n",
    "    \"\"\"\n",
    "    \n",
    "    x = x if hasattr(x, \"__iter__\") else [x]\n",
    "    results = []\n",
    "\n",
    "    for val in x:\n",
    "        # Reduce the value in x to the range [-pi, pi]\n",
    "        val_reduced = (val % (2 * math.pi)) - (2 * math.pi) if val % (2 * math.pi) > math.pi else val % (2 * math.pi)\n",
    "\n",
    "        # Check if reduced value is close to points where tan is undefined\n",
    "        if math.isclose(val_reduced, math.pi/2, abs_tol=1e-9) or math.isclose(val_reduced, -math.pi/2, abs_tol=1e-9):\n",
    "            raise ValueError(\"Tan is not defined for x near (2n+1)*pi/2.\")\n",
    "\n",
    "        # Compute sin(val) using Taylor series expansion\n",
    "        sin_val = sum([(-1)**n * val_reduced**(2*n+1) / factorial(2*n+1) for n in range(N)])\n",
    "        \n",
    "        # Compute cos(val) using Taylor series expansion\n",
    "        cos_val = sum([(-1)**n * val_reduced**(2*n) / factorial(2*n) for n in range(N)])\n",
    "        \n",
    "        if cos_val == 0:\n",
    "            raise ValueError(\"Tan is not defined for x where cos(x) = 0.\")\n",
    "        \n",
    "        results.append(sin_val / cos_val)\n",
    "\n",
    "    return results if len(results) > 1 else results[0]"
   ]
  },
  {
   "cell_type": "markdown",
   "metadata": {},
   "source": [
    "### 6.gmma_function"
   ]
  },
  {
   "cell_type": "code",
   "execution_count": 6,
   "metadata": {},
   "outputs": [],
   "source": [
    "def gamma_function(z):\n",
    "    \"\"\"Compute the gamma function using the Lanczos approximation.\n",
    "    \n",
    "    >>> abs(gamma_function(5) - 24) < 1e-10\n",
    "    True\n",
    "    >>> abs(gamma_function(-0.5) - -3.5449077018110335) < 1e-10\n",
    "    True\n",
    "\n",
    "    \"\"\"\n",
    "    \n",
    "    # Coefficients for Lanczos approximation\n",
    "    g = 7\n",
    "    p = [0.99999999999980993, 676.5203681218851, -1259.1392167224028,\n",
    "         771.32342877765313, -176.61502916214059, 12.507343278686905,\n",
    "         -0.13857109526572012, 9.9843695780195716e-6, 1.5056327351493116e-7]\n",
    "    \n",
    "    if z.real < 0.5:\n",
    "        # Use the reflection formula: gamma(z) = pi / (sin(pi*z) * gamma(1-z))\n",
    "        return cmath.pi / (cmath.sin(cmath.pi * z) * gamma_function(1 - z))\n",
    "    \n",
    "    z -= 1\n",
    "    x = p[0]\n",
    "    for i in range(1, g+2):\n",
    "        x += p[i] / (z + i)\n",
    "    t = z + g + 0.5\n",
    "    result = cmath.sqrt(2 * cmath.pi) * (t ** (z + 0.5)) * cmath.exp(-t) * x\n",
    "\n",
    "    # Check if the result is essentially real, and if so, return it as a real number\n",
    "    if abs(result.imag) < 1e-10:\n",
    "        return result.real\n",
    "    return result"
   ]
  },
  {
   "cell_type": "markdown",
   "metadata": {},
   "source": [
    "### 7. Bessel’s function"
   ]
  },
  {
   "cell_type": "code",
   "execution_count": 7,
   "metadata": {},
   "outputs": [],
   "source": [
    "def bessel_function(alpha, x):\n",
    "    \"\"\"Compute the Bessel function of the first kind using the series representation.\n",
    "    \n",
    "    >>> abs(bessel_function(0, 1) - 0.7651976865579666) < 1e-10\n",
    "    True\n",
    "    >>> abs(bessel_function(1, 1) - 0.44005058574493355) < 1e-10\n",
    "    True\n",
    "\n",
    "    \"\"\"\n",
    "    sum_term = 0\n",
    "    m = 0\n",
    "    epsilon = 1e-15\n",
    "\n",
    "    while True:\n",
    "        term = (-1)**m / (factorial(m) * gamma_function(m + alpha + 1)) * (x / 2)**(2 * m + alpha)\n",
    "        sum_term += term\n",
    "\n",
    "        # Convergence check\n",
    "        if abs(term) < epsilon:\n",
    "            break\n",
    "        \n",
    "        m += 1\n",
    "\n",
    "    return sum_term"
   ]
  }
 ],
 "metadata": {
  "kernelspec": {
   "display_name": "Python 3 (ipykernel)",
   "language": "python",
   "name": "python3"
  },
  "language_info": {
   "codemirror_mode": {
    "name": "ipython",
    "version": 3
   },
   "file_extension": ".py",
   "mimetype": "text/x-python",
   "name": "python",
   "nbconvert_exporter": "python",
   "pygments_lexer": "ipython3",
   "version": "3.11.5"
  }
 },
 "nbformat": 4,
 "nbformat_minor": 2
}
