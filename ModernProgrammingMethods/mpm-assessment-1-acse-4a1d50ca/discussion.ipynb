{
 "cells": [
  {
   "cell_type": "markdown",
   "id": "c78bf3cd",
   "metadata": {},
   "source": [
    "# Profiling and discussion"
   ]
  },
  {
   "cell_type": "markdown",
   "id": "0a4e2cd6",
   "metadata": {},
   "source": [
    "## Lorenz 96"
   ]
  },
  {
   "cell_type": "code",
   "execution_count": 1,
   "id": "b7cc7f63",
   "metadata": {},
   "outputs": [
    {
     "name": "stdout",
     "output_type": "stream",
     "text": [
      "         45008 function calls (42008 primitive calls) in 0.031 seconds\n",
      "\n",
      "   Ordered by: standard name\n",
      "\n",
      "   ncalls  tottime  percall  cumtime  percall filename:lineno(function)\n",
      "        1    0.000    0.000    0.031    0.031 313247980.py:6(run_lorenz96)\n",
      "        1    0.000    0.000    0.031    0.031 <string>:1(<module>)\n",
      "        1    0.006    0.006    0.031    0.031 automata.py:10(lorenz96)\n",
      "     3000    0.000    0.000    0.000    0.000 multiarray.py:85(empty_like)\n",
      "     6000    0.000    0.000    0.000    0.000 numeric.py:1125(_roll_dispatcher)\n",
      "6000/3000    0.019    0.000    0.025    0.000 numeric.py:1129(roll)\n",
      "     3000    0.000    0.000    0.000    0.000 numeric.py:1216(<dictcomp>)\n",
      "     3000    0.002    0.000    0.004    0.000 numeric.py:1330(normalize_axis_tuple)\n",
      "     3000    0.001    0.000    0.001    0.000 numeric.py:1380(<listcomp>)\n",
      "     3000    0.000    0.000    0.000    0.000 {built-in method _operator.index}\n",
      "        1    0.000    0.000    0.031    0.031 {built-in method builtins.exec}\n",
      "        1    0.000    0.000    0.000    0.000 {built-in method builtins.len}\n",
      "     6000    0.000    0.000    0.000    0.000 {built-in method numpy.asanyarray}\n",
      "     3000    0.000    0.000    0.000    0.000 {built-in method numpy.core._multiarray_umath.normalize_axis_index}\n",
      "        1    0.000    0.000    0.000    0.000 {method 'copy' of 'numpy.ndarray' objects}\n",
      "        1    0.000    0.000    0.000    0.000 {method 'disable' of '_lsprof.Profiler' objects}\n",
      "     3000    0.000    0.000    0.000    0.000 {method 'items' of 'dict' objects}\n",
      "        1    0.000    0.000    0.000    0.000 {method 'random' of 'numpy.random.mtrand.RandomState' objects}\n",
      "     3000    0.000    0.000    0.000    0.000 {method 'ravel' of 'numpy.ndarray' objects}\n",
      "     3000    0.001    0.000    0.001    0.000 {method 'reshape' of 'numpy.ndarray' objects}\n",
      "\n",
      "\n"
     ]
    }
   ],
   "source": [
    "# Add profiling code here\n",
    "import cProfile\n",
    "import automata\n",
    "import numpy as np\n",
    "\n",
    "def run_lorenz96():\n",
    "    initial_state = np.random.random(16)\n",
    "    result = automata.lorenz96(initial_state, 1000)\n",
    "\n",
    "cProfile.run('run_lorenz96()')"
   ]
  },
  {
   "cell_type": "code",
   "execution_count": 2,
   "id": "92562e46",
   "metadata": {},
   "outputs": [
    {
     "name": "stdout",
     "output_type": "stream",
     "text": [
      "2.56 ms ± 2.9 µs per loop (mean ± std. dev. of 7 runs, 100 loops each)\n",
      "1.25 ms ± 11.1 µs per loop (mean ± std. dev. of 7 runs, 1,000 loops each)\n"
     ]
    }
   ],
   "source": [
    "initial_state = np.random.rand(64)\n",
    "\n",
    "def lorenz96(initial_state, nsteps, constants=(1/101, 100, 8)):\n",
    "\n",
    "    alpha, beta, gamma = constants\n",
    "    N = len(initial_state)\n",
    "    \n",
    "    # Create an array to store the time series of cell values\n",
    "    time_series = []\n",
    "    current_state = np.array(initial_state)\n",
    "\n",
    "    for _ in range(nsteps):\n",
    "        new_state = np.zeros(N)\n",
    "        for i in range(N):\n",
    "            new_state[i] = alpha * (beta * current_state[i] + (current_state[(i - 2) % N] - current_state[(i + 1) % N]) * current_state[(i - 1) % N] + gamma)\n",
    "        current_state = new_state.copy()\n",
    "        time_series.append(current_state.copy())\n",
    "\n",
    "    return time_series[-1]\n",
    "\n",
    "%timeit lorenz96(initial_state, 100)\n",
    "\n",
    "def lorenz96_vectorized(initial_state, nsteps, constants=(1/101, 100, 8)):\n",
    "    alpha, beta, gamma = constants\n",
    "    N = len(initial_state)\n",
    "    current_state = initial_state.copy()\n",
    "\n",
    "    for _ in range(nsteps):\n",
    "        x_minus_2 = np.roll(current_state, 2)\n",
    "        x_minus_1 = np.roll(current_state, 1)\n",
    "        x_i = current_state\n",
    "        x_plus_1 = np.roll(current_state, -1)\n",
    "        \n",
    "        current_state = alpha * (beta * x_i + (x_minus_2 - x_plus_1) * x_minus_1 + gamma)\n",
    "\n",
    "    return current_state\n",
    "\n",
    "%timeit lorenz96_vectorized(initial_state, 100)"
   ]
  },
  {
   "cell_type": "markdown",
   "id": "648182ca",
   "metadata": {},
   "source": [
    "#### Add discussion here (lorenz96)\n",
    "\n",
    "The original implementation from ChatGPT is correct in terms of its logic and is a straightforward representation of the Lorenz '96 equations. It was easy to understand and modular.\n",
    "\n",
    "The initial code for GPT uses nested 'for' loops to implement traversal of the array. This is straightforward to implement, but as the size of the array increases, so does the amount of time we need to run it. In this task, we use numpy's 'roll' function, which can be very effective in improving the runtime to cope with larger arrays.\n",
    "\n",
    "The vectorization operations in numpy are optimized in C to be much faster than native Python loops. By avoiding loops and using the built-in numpy functions, we can take advantage of numpy's built-in performance optimizations. Reducing array copying and memory operations often improves performance, especially during iterations.\n",
    "\n",
    "Perhaps we can further improve the speed of our code by adding some python decorators to our code for specific tasks."
   ]
  },
  {
   "cell_type": "markdown",
   "id": "f06efd25",
   "metadata": {},
   "source": [
    "## Game of Life"
   ]
  },
  {
   "cell_type": "code",
   "execution_count": 3,
   "id": "665009ee",
   "metadata": {},
   "outputs": [
    {
     "name": "stdout",
     "output_type": "stream",
     "text": [
      "         421207 function calls in 0.094 seconds\n",
      "\n",
      "   Ordered by: standard name\n",
      "\n",
      "   ncalls  tottime  percall  cumtime  percall filename:lineno(function)\n",
      "        1    0.000    0.000    0.094    0.094 1748497511.py:6(run_life)\n",
      "        1    0.000    0.000    0.094    0.094 <string>:1(<module>)\n",
      "        1    0.000    0.000    0.000    0.000 automata.py:120(<listcomp>)\n",
      "     1600    0.001    0.000    0.001    0.000 automata.py:122(<listcomp>)\n",
      "        1    0.008    0.008    0.094    0.094 automata.py:47(life)\n",
      "    25600    0.073    0.000    0.085    0.000 automata.py:66(count_neighbors_2d)\n",
      "        1    0.000    0.000    0.094    0.094 {built-in method builtins.exec}\n",
      "   394000    0.012    0.000    0.012    0.000 {built-in method builtins.len}\n",
      "        1    0.000    0.000    0.000    0.000 {method 'disable' of '_lsprof.Profiler' objects}\n",
      "        1    0.000    0.000    0.000    0.000 {method 'random' of 'numpy.random.mtrand.RandomState' objects}\n",
      "\n",
      "\n"
     ]
    }
   ],
   "source": [
    "# Add profiling code here\n",
    "import cProfile\n",
    "import automata\n",
    "import numpy as np\n",
    "\n",
    "def run_life():\n",
    "    initial_state = np.random.random((16, 16))>0.6\n",
    "    result = automata.life(initial_state, 100)\n",
    "\n",
    "cProfile.run('run_life()')"
   ]
  },
  {
   "cell_type": "code",
   "execution_count": 4,
   "id": "13336567",
   "metadata": {},
   "outputs": [
    {
     "name": "stdout",
     "output_type": "stream",
     "text": [
      "1.57 ms ± 7.16 µs per loop (mean ± std. dev. of 7 runs, 1,000 loops each)\n"
     ]
    }
   ],
   "source": [
    "initial_state = np.random.random((10, 10))>0.6\n",
    "%timeit automata.life(initial_state, 10)\n",
    "\n",
    "#print(initial_state)\n",
    "#print(automata.life(initial_state, 1))"
   ]
  },
  {
   "cell_type": "markdown",
   "id": "08bab13c",
   "metadata": {},
   "source": [
    "#### Add discussion here (life)\n",
    "\n",
    "Compared to the previous task, in the Game of Life implementation, GPT showed more power and exposed some problems.LLM has a great understanding of human language but also has limitations. A single rule can be well understood, however, when faced with a more complex (or unclear) statement, LLM reacts by following the logic that has already been set up, and does not ask for clarification of the part that caused the confusion.\n",
    "\n",
    "GPT accomplishes the task of expanding sequentially in a step-by-step fashion, but because of this, the code becomes lengthy, although it possesses good readability. But the running efficiency is not very good in the face of larger challenges (for example, the initial matrix of 1024*1024, the time to complete an iteration in the current code is up to 20s, if the current code to complete multiple iterations will be a disaster).\n",
    "\n",
    "In this task, GPT stored the survival and resurrection conditions in arrays, which would be faster than using multiple if statements for judgment. However, due to the complexity of the task, we defined two different neighbor structures (2d and 3d) in the same function and used the same function for both classification discussions for the different cases, which resulted in our same function being called multiple times (even though we may not need it). The nesting of multiple judgment and looping statements makes the code run slowly.\n",
    "\n",
    "For optimizing this part of the code, we can try to use some predefined tripartite libraries instead of multiple loops. More importantly, we can create multiple functions with the same name (accepting different types of arguments to distinguish them), which allows us to call fewer statements that are not needed."
   ]
  }
 ],
 "metadata": {
  "kernelspec": {
   "display_name": "Python 3 (ipykernel)",
   "language": "python",
   "name": "python3"
  },
  "language_info": {
   "codemirror_mode": {
    "name": "ipython",
    "version": 3
   },
   "file_extension": ".py",
   "mimetype": "text/x-python",
   "name": "python",
   "nbconvert_exporter": "python",
   "pygments_lexer": "ipython3",
   "version": "3.11.5"
  }
 },
 "nbformat": 4,
 "nbformat_minor": 5
}
