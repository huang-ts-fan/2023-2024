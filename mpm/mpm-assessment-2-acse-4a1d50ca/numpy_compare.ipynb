{
 "cells": [
  {
   "cell_type": "markdown",
   "metadata": {},
   "source": [
    "# Compare with Numpy/SciPy"
   ]
  },
  {
   "cell_type": "markdown",
   "metadata": {},
   "source": [
    "### We show here some differences between our function and Numpy/SciPy."
   ]
  },
  {
   "cell_type": "markdown",
   "metadata": {},
   "source": [
    "###### First, import the libraries necessary for our function operations, we use some constants from the 'math' library and use 'cmath' to provide help for complex number operations."
   ]
  },
  {
   "cell_type": "code",
   "execution_count": 1,
   "metadata": {},
   "outputs": [
    {
     "data": {
      "text/plain": [
       "\"\\nWe're also importing Numpy and SciPy here, \\nbut won't be using them directly, just to compare our outputs.\\n\""
      ]
     },
     "execution_count": 1,
     "metadata": {},
     "output_type": "execute_result"
    }
   ],
   "source": [
    "import math\n",
    "import cmath\n",
    "\n",
    "import numpy as np\n",
    "from scipy.special import gamma, jv\n",
    "\n",
    "'''\n",
    "We're also importing Numpy and SciPy here, \n",
    "but won't be using them directly, just to compare our outputs.\n",
    "'''\n"
   ]
  },
  {
   "cell_type": "code",
   "execution_count": 2,
   "metadata": {},
   "outputs": [],
   "source": [
    "# Defines an array of numpy arrays for testing and another standard natural number.\n",
    "x_values = np.array([0.5, 1, 1.5, 10, 15, 20])\n",
    "y = 5"
   ]
  },
  {
   "cell_type": "markdown",
   "metadata": {},
   "source": [
    "##### Use recursion to implement our factorial function, which we will use several times."
   ]
  },
  {
   "cell_type": "code",
   "execution_count": 3,
   "metadata": {},
   "outputs": [],
   "source": [
    "def factorial(n):\n",
    "    \"\"\"Compute factorial of n.\n",
    "    \n",
    "    >>> factorial(5)\n",
    "    120\n",
    "    >>> factorial(0)\n",
    "    1\n",
    "\n",
    "    \"\"\"\n",
    "    if n == 0:\n",
    "        return 1\n",
    "    return n * factorial(n-1)"
   ]
  },
  {
   "cell_type": "markdown",
   "metadata": {},
   "source": [
    "##### Comparing our performance in the exp function."
   ]
  },
  {
   "cell_type": "code",
   "execution_count": 4,
   "metadata": {},
   "outputs": [
    {
     "name": "stdout",
     "output_type": "stream",
     "text": [
      "[1.6487212707001278, 2.7182818284590455, 4.481689070338066, 22026.46579480671, 3269017.3724721107, 485165195.40979016]\n",
      "[1.64872127e+00 2.71828183e+00 4.48168907e+00 2.20264658e+04\n",
      " 3.26901737e+06 4.85165195e+08]\n",
      "148.41315910257657\n",
      "148.4131591025766\n",
      "1.82 ms ± 10.9 µs per loop (mean ± std. dev. of 7 runs, 1,000 loops each)\n",
      "209 ns ± 1.96 ns per loop (mean ± std. dev. of 7 runs, 1,000,000 loops each)\n"
     ]
    }
   ],
   "source": [
    "def exp(x, N=100):\n",
    "    \"\"\"Compute e^x using Taylor series expansion.\n",
    "    \n",
    "    >>> exp(1)\n",
    "    2.7182818284590455\n",
    "    >>> exp(0)\n",
    "    1.0\n",
    "\n",
    "    \"\"\"\n",
    "    x = x if hasattr(x, \"__iter__\") else [x]\n",
    "    result = [sum([val**n / factorial(n) for n in range(N)]) for val in x]\n",
    "    return result if len(result) > 1 else result[0]\n",
    "\n",
    "print(exp(x_values))\n",
    "print(np.exp(x_values))\n",
    "print(exp(y))\n",
    "print(np.exp(y))\n",
    "\n",
    "%timeit exp(x_values)\n",
    "%timeit np.exp(x_values)"
   ]
  },
  {
   "cell_type": "markdown",
   "metadata": {},
   "source": [
    "##### Our implementation of the exp function retains more significant digits in the output and is even more accurate than the exp function in the Numpy library, but there is no switch to scientific notation and the output is not user-friendly."
   ]
  },
  {
   "cell_type": "markdown",
   "metadata": {},
   "source": [
    "##### Compare our performance in the sin function."
   ]
  },
  {
   "cell_type": "code",
   "execution_count": 5,
   "metadata": {},
   "outputs": [
    {
     "name": "stdout",
     "output_type": "stream",
     "text": [
      "[0.479425538604203, 0.8414709848078965, 0.9974949866040544, -0.5440211108817542, 0.6502878401546164, 0.9129452507276279]\n",
      "[ 0.47942554  0.84147098  0.99749499 -0.54402111  0.65028784  0.91294525]\n",
      "-0.9589242746631386\n",
      "-0.9589242746631385\n",
      "38.7 µs ± 227 ns per loop (mean ± std. dev. of 7 runs, 10,000 loops each)\n",
      "214 ns ± 0.198 ns per loop (mean ± std. dev. of 7 runs, 1,000,000 loops each)\n"
     ]
    }
   ],
   "source": [
    "def sin(x, N=10):\n",
    "    \"\"\"Compute sin(x) using Taylor series expansion.\n",
    "       \n",
    "    >>> sin(0)\n",
    "    0.0\n",
    "    >>> sin(math.pi / 2)\n",
    "    1.0\n",
    "\n",
    "    \"\"\"\n",
    "    # Ensure x is a list\n",
    "    x = x if hasattr(x, \"__iter__\") else [x]\n",
    "\n",
    "    # Reduce each value in x to the range [-pi, pi]\n",
    "    x_reduced = [(val % (2 * math.pi)) - (2 * math.pi) if val % (2 * math.pi) > math.pi else val % (2 * math.pi) for val in x]\n",
    "    \n",
    "    # Calculate the Taylor series expansion for each reduced value\n",
    "    result = [sum([(-1)**n * val**(2*n+1) / factorial(2*n+1) for n in range(N)]) for val in x_reduced]\n",
    "    \n",
    "    return result if len(result) > 1 else result[0]\n",
    "\n",
    "\n",
    "print(sin(x_values))\n",
    "print(np.sin(x_values))\n",
    "print(sin(y))\n",
    "print(np.sin(y))\n",
    "\n",
    "\n",
    "%timeit sin(x_values)\n",
    "%timeit np.sin(x_values)"
   ]
  },
  {
   "cell_type": "markdown",
   "metadata": {},
   "source": [
    "##### Our implementation of the sin function retains more significant digits in the output and is even more accurate than the sin function in the Numpy library."
   ]
  },
  {
   "cell_type": "markdown",
   "metadata": {},
   "source": [
    "##### Compare our performance in the cos function."
   ]
  },
  {
   "cell_type": "code",
   "execution_count": 6,
   "metadata": {},
   "outputs": [
    {
     "name": "stdout",
     "output_type": "stream",
     "text": [
      "[0.8775825618903728, 0.5403023058681397, 0.0707372016677029, -0.8390715290764521, -0.7596879128588214, 0.40808206181339135]\n",
      "[ 0.87758256  0.54030231  0.0707372  -0.83907153 -0.75968791  0.40808206]\n",
      "0.2836621854632265\n",
      "0.28366218546322625\n",
      "35.4 µs ± 255 ns per loop (mean ± std. dev. of 7 runs, 10,000 loops each)\n",
      "218 ns ± 0.276 ns per loop (mean ± std. dev. of 7 runs, 1,000,000 loops each)\n"
     ]
    }
   ],
   "source": [
    "def cos(x, N=10):\n",
    "    \"\"\"Compute cos(x) using Taylor series expansion.\n",
    "    \n",
    "    >>> cos(0)\n",
    "    1.0\n",
    "\n",
    "    \"\"\"\n",
    "    # Ensure x is a list\n",
    "    x = x if hasattr(x, \"__iter__\") else [x]\n",
    "    \n",
    "    # Reduce each value in x to the range [-pi, pi]\n",
    "    x_reduced = [(val % (2 * math.pi)) - (2 * math.pi) if val % (2 * math.pi) > math.pi else val % (2 * math.pi) for val in x]\n",
    "    \n",
    "    # Calculate the Taylor series expansion for each reduced value\n",
    "    result = [sum([(-1)**n * val**(2*n) / factorial(2*n) for n in range(N)]) for val in x_reduced]\n",
    "    \n",
    "    return result if len(result) > 1 else result[0]\n",
    "\n",
    "print(cos(x_values, 30))\n",
    "print(np.cos(x_values))\n",
    "print(cos(y))\n",
    "print(np.cos(y))\n",
    "\n",
    "\n",
    "%timeit cos(x_values)\n",
    "%timeit np.cos(x_values)"
   ]
  },
  {
   "cell_type": "markdown",
   "metadata": {},
   "source": [
    "##### Our implementation of the cos function retains more significant digits in the output and is even more accurate than the cos function in the Numpy library."
   ]
  },
  {
   "cell_type": "markdown",
   "metadata": {},
   "source": [
    "##### Compare our performance in the tan function."
   ]
  },
  {
   "cell_type": "code",
   "execution_count": 7,
   "metadata": {},
   "outputs": [
    {
     "name": "stdout",
     "output_type": "stream",
     "text": [
      "[0.5463024898437905, 1.5574077246549025, 14.101419947171992, 0.6483608274019136, -0.8559934008809467, 2.237160944224746]\n",
      "[ 0.54630249  1.55740772 14.10141995  0.64836083 -0.8559934   2.23716094]\n",
      "-3.3805150062465827\n",
      "-3.380515006246585\n",
      "74.5 µs ± 518 ns per loop (mean ± std. dev. of 7 runs, 10,000 loops each)\n",
      "223 ns ± 1.34 ns per loop (mean ± std. dev. of 7 runs, 1,000,000 loops each)\n"
     ]
    }
   ],
   "source": [
    "def tan(x, N=10):\n",
    "    \"\"\"Compute tan(x) using Taylor series for sin and cos without calling them directly.\n",
    "    \n",
    "    \n",
    "    >>> tan(0)\n",
    "    0.0\n",
    "    >>> tan(math.pi / 4)\n",
    "    1.0\n",
    "\n",
    "    \"\"\"\n",
    "    \n",
    "    x = x if hasattr(x, \"__iter__\") else [x]\n",
    "    results = []\n",
    "\n",
    "    for val in x:\n",
    "        # Reduce the value in x to the range [-pi, pi]\n",
    "        val_reduced = (val % (2 * math.pi)) - (2 * math.pi) if val % (2 * math.pi) > math.pi else val % (2 * math.pi)\n",
    "\n",
    "        # Check if reduced value is close to points where tan is undefined\n",
    "        if math.isclose(val_reduced, math.pi/2, abs_tol=1e-9) or math.isclose(val_reduced, -math.pi/2, abs_tol=1e-9):\n",
    "            raise ValueError(\"Tan is not defined for x near (2n+1)*pi/2.\")\n",
    "\n",
    "        # Compute sin(val) using Taylor series expansion\n",
    "        sin_val = sum([(-1)**n * val_reduced**(2*n+1) / factorial(2*n+1) for n in range(N)])\n",
    "        \n",
    "        # Compute cos(val) using Taylor series expansion\n",
    "        cos_val = sum([(-1)**n * val_reduced**(2*n) / factorial(2*n) for n in range(N)])\n",
    "        \n",
    "        if cos_val == 0:\n",
    "            raise ValueError(\"Tan is not defined for x where cos(x) = 0.\")\n",
    "        \n",
    "        results.append(sin_val / cos_val)\n",
    "\n",
    "    return results if len(results) > 1 else results[0]\n",
    "\n",
    "print(tan(x_values))\n",
    "print(np.tan(x_values))\n",
    "print(tan(y))\n",
    "print(np.tan(y))\n",
    "\n",
    "\n",
    "%timeit tan(x_values)\n",
    "%timeit np.tan(x_values)"
   ]
  },
  {
   "cell_type": "markdown",
   "metadata": {},
   "source": [
    "##### Our implementation of the tan function retains more significant digits in the output and is even more accurate than the tan function in the Numpy library."
   ]
  },
  {
   "cell_type": "markdown",
   "metadata": {},
   "source": [
    "##### Compare our performance in the gamma function."
   ]
  },
  {
   "cell_type": "code",
   "execution_count": 8,
   "metadata": {},
   "outputs": [
    {
     "name": "stdout",
     "output_type": "stream",
     "text": [
      "(3.7930039091309634e+21-1.55687559811315e+19j)\n",
      "(3.7930039091309686e+21-1.5568755981131733e+19j)\n",
      "[1.7724538509055159, 0.9999999999999998, 0.8862269254527586, 362880.0000000015, 87178291200.00021, 1.2164510040883222e+17]\n",
      "[1.77245385e+00 1.00000000e+00 8.86226925e-01 3.62880000e+05\n",
      " 8.71782912e+10 1.21645100e+17]\n",
      "9.9 µs ± 18.3 ns per loop (mean ± std. dev. of 7 runs, 100,000 loops each)\n",
      "225 ns ± 1.21 ns per loop (mean ± std. dev. of 7 runs, 1,000,000 loops each)\n"
     ]
    }
   ],
   "source": [
    "def gamma_function(z):\n",
    "    \"\"\"Compute the gamma function using the Lanczos approximation.\n",
    "    \n",
    "    >>> abs(gamma_function(5) - 24) < 1e-10\n",
    "    True\n",
    "    >>> abs(gamma_function(-0.5) - -3.5449077018110335) < 1e-10\n",
    "    True\n",
    "\n",
    "    \"\"\"\n",
    "    \n",
    "    # Coefficients for Lanczos approximation\n",
    "    g = 7\n",
    "    p = [0.99999999999980993, 676.5203681218851, -1259.1392167224028,\n",
    "         771.32342877765313, -176.61502916214059, 12.507343278686905,\n",
    "         -0.13857109526572012, 9.9843695780195716e-6, 1.5056327351493116e-7]\n",
    "    \n",
    "    # If the input is an array-like, recursively apply gamma_function to each element\n",
    "    try:\n",
    "        iter(z)  # Checks if z is iterable\n",
    "        return [gamma_function(zi) for zi in z]\n",
    "    except TypeError:  # If z is not iterable\n",
    "        pass\n",
    "\n",
    "    if z.real < 0.5:\n",
    "        return cmath.pi / (cmath.sin(cmath.pi * z) * gamma_function(1 - z))\n",
    "    \n",
    "    z -= 1\n",
    "    x = p[0]\n",
    "    for i in range(1, g+2):\n",
    "        x += p[i] / (z + i)\n",
    "    t = z + g + 0.5\n",
    "    result = cmath.sqrt(2 * cmath.pi) * (t ** (z + 0.5)) * cmath.exp(-t) * x\n",
    "\n",
    "    # Check if the result is essentially real, and if so, return it as a real number\n",
    "    if abs(result.imag) < 1e-10:\n",
    "        return result.real\n",
    "    return result\n",
    "\n",
    "print(gamma_function(23.5+4j))\n",
    "print(gamma(23.5+4j))\n",
    "print(gamma_function(x_values))\n",
    "print(gamma(x_values))\n",
    "\n",
    "\n",
    "%timeit gamma_function(x_values)\n",
    "%timeit gamma(x_values)"
   ]
  },
  {
   "cell_type": "markdown",
   "metadata": {},
   "source": [
    "##### Our implementation of the gamma function retains more significant digits in the output and is even more accurate than the gamma function in the SciPy library, but there is no switch to scientific notation and the output is not user-friendly."
   ]
  },
  {
   "cell_type": "markdown",
   "metadata": {},
   "source": [
    "##### Compare our performance in Bessel's function."
   ]
  },
  {
   "cell_type": "code",
   "execution_count": 9,
   "metadata": {},
   "outputs": [
    {
     "name": "stdout",
     "output_type": "stream",
     "text": [
      "(3.6541102814142614-8.40310425658308j)\n",
      "(3.6541102814142636-8.403104256583086j)\n",
      "[0.24226845767487384, 0.44005058574493344, 0.5579365079100995, 0.04347274616806198, 0.20510403846569988, 0.06683310661421762]\n",
      "[0.24226846 0.44005059 0.55793651 0.04347275 0.20510404 0.06683312]\n",
      "229 µs ± 1.87 µs per loop (mean ± std. dev. of 7 runs, 1,000 loops each)\n",
      "3.24 µs ± 43.9 ns per loop (mean ± std. dev. of 7 runs, 100,000 loops each)\n"
     ]
    }
   ],
   "source": [
    "def bessel_function(alpha, x):\n",
    "    \"\"\"Compute the Bessel function of the first kind using the series representation.\n",
    "    \n",
    "    >>> abs(bessel_function(0, 1) - 0.7651976865579666) < 1e-10\n",
    "    True\n",
    "    >>> abs(bessel_function(1, 1) - 0.44005058574493355) < 1e-10\n",
    "    True\n",
    "\n",
    "    \"\"\"\n",
    "    # If the input is an array-like, recursively apply bessel_function to each element\n",
    "    try:\n",
    "        iter(x)  # Checks if x is iterable\n",
    "        return [bessel_function(alpha, xi) for xi in x]\n",
    "    except TypeError:  # If x is not iterable\n",
    "        pass\n",
    "    \n",
    "    sum_term = 0\n",
    "    m = 0\n",
    "    epsilon = 1e-15\n",
    "\n",
    "    while True:\n",
    "        term = (-1)**m / (factorial(m) * gamma_function(m + alpha + 1)) * (x / 2)**(2 * m + alpha)\n",
    "        sum_term += term\n",
    "\n",
    "        # Convergence check\n",
    "        if abs(term) < epsilon:\n",
    "            break\n",
    "        \n",
    "        m += 1\n",
    "\n",
    "    return sum_term\n",
    "\n",
    "print(bessel_function(1, 3+4j))\n",
    "print(jv(1, 3+4j))\n",
    "print(bessel_function(1, x_values))\n",
    "print(jv(1, x_values))\n",
    "\n",
    "%timeit bessel_function(1, x_values)\n",
    "%timeit jv(1, x_values)"
   ]
  },
  {
   "cell_type": "markdown",
   "metadata": {},
   "source": [
    "##### Our implementation of the Bessel's function retains more significant digits in the output and is even more accurate than the Bessel's function in the SciPy library."
   ]
  },
  {
   "cell_type": "markdown",
   "metadata": {},
   "source": [
    "#### In general, all of these functions that we approximate using Taylor expansions can be made more accurate by increasing the number of bits employed, but this approach also makes our calculations slower.The built-in functions in Numpy or SciPy are usually heavily optimised, with more algorithmic improvements or trade-offs between accuracy and computation time, and with a few overly large or small data are converted to scientific notation to make the output more observable."
   ]
  },
  {
   "cell_type": "code",
   "execution_count": null,
   "metadata": {},
   "outputs": [],
   "source": []
  }
 ],
 "metadata": {
  "kernelspec": {
   "display_name": "Python 3 (ipykernel)",
   "language": "python",
   "name": "python3"
  },
  "language_info": {
   "codemirror_mode": {
    "name": "ipython",
    "version": 3
   },
   "file_extension": ".py",
   "mimetype": "text/x-python",
   "name": "python",
   "nbconvert_exporter": "python",
   "pygments_lexer": "ipython3",
   "version": "3.11.5"
  }
 },
 "nbformat": 4,
 "nbformat_minor": 2
}
